{
 "cells": [
  {
   "cell_type": "markdown",
   "metadata": {},
   "source": [
    "# Introduction to Numpy\n",
    "\n",
    "Lesson Goals\n",
    "\n",
    "    Learn about Numpy data structures.\n",
    "    Extract data from Numpy arrays.\n",
    "    Convert other Python data structures to Numpy arrays.\n",
    "    Perform basic mathematical functions on arrays and elements.\n",
    "\n",
    "Introduction\n",
    "\n",
    "Many of the libraries you will use to perform data analysis in Python, as well as many of the mathematical functions you'll use, will involve working with Numpy. Numpy (short for Numerical Python) is used for numeric computing and includes support for multi-dimensional arrays and matrices along with a variety of mathematical functions to apply to them. In this lesson, we will learn about Numpy's primary data structures and how to apply some basic math functions to them.\n",
    "Importing Numpy\n",
    "\n",
    "In order to use Numpy, you must first import it. It is common to also alias it to np using the as keyword so that you don't have to spell out \"numpy\" every time you want to call one of its methods. "
   ]
  },
  {
   "cell_type": "code",
   "execution_count": 1,
   "metadata": {},
   "outputs": [],
   "source": [
    "import numpy as np"
   ]
  },
  {
   "cell_type": "markdown",
   "metadata": {},
   "source": [
    "Once the library has been imported, it is ready to use.\n",
    "Numpy Arrays\n",
    "\n",
    "The basic data structures in Numpy are arrays, which can be used to represent tabular data. You can think of arrays as lists of lists, where all the elements of a list are of the same type (typically numeric since the reason you use Numpy is to do numeric computing). A matrix is just a two-dimensional array.\n",
    "\n",
    "The size of an array is the total number of elements in every list. The shape of an array is the size of the array along each dimension (e.g. number of rows and number of columns for a two-dimensional array). Let's create a two dimensional 10 x 4 array containing random numbers and calculate the shape and size of the array using the shape and size methods. "
   ]
  },
  {
   "cell_type": "code",
   "execution_count": 2,
   "metadata": {},
   "outputs": [
    {
     "name": "stdout",
     "output_type": "stream",
     "text": [
      "[[0.01194858 0.65317914 0.03901538 0.40651166]\n",
      " [0.93354835 0.75969169 0.93647404 0.90144715]\n",
      " [0.51421797 0.67593628 0.3355986  0.46457425]\n",
      " [0.66353129 0.98548667 0.54204157 0.29659769]\n",
      " [0.17507682 0.38922503 0.00202762 0.15336725]\n",
      " [0.73917581 0.21741034 0.29009298 0.03886857]\n",
      " [0.09531446 0.1322858  0.92966151 0.72643575]\n",
      " [0.04761771 0.8842307  0.74239448 0.65846975]\n",
      " [0.76052686 0.13564633 0.02734857 0.13371655]\n",
      " [0.49842254 0.36477385 0.49490158 0.99160186]]\n"
     ]
    }
   ],
   "source": [
    "a = np.random.random((10,4))\n",
    "print(a)"
   ]
  },
  {
   "cell_type": "code",
   "execution_count": 3,
   "metadata": {
    "scrolled": true
   },
   "outputs": [
    {
     "name": "stdout",
     "output_type": "stream",
     "text": [
      "(10, 4)\n",
      "40\n"
     ]
    }
   ],
   "source": [
    "print(a.shape)\n",
    "print(a.size)"
   ]
  },
  {
   "cell_type": "markdown",
   "metadata": {},
   "source": [
    "As you can see, the array has a shape of 10 x 4 (just as we specified) and the total number of elements in the array is 40.\n",
    "\n",
    "Now that we have seen an example of a basic two-dimensional array (a matrix), let's learn about how creating arrays with more dimensions than two works in Numpy. Let's build a three-dimensional array of random numbers and see what that looks like."
   ]
  },
  {
   "cell_type": "code",
   "execution_count": 4,
   "metadata": {},
   "outputs": [
    {
     "name": "stdout",
     "output_type": "stream",
     "text": [
      "[[[0.29581332 0.75826662 0.36099008]\n",
      "  [0.8032098  0.28063906 0.75101796]]\n",
      "\n",
      " [[0.63183555 0.04963067 0.33475204]\n",
      "  [0.39529447 0.18010936 0.09471456]]\n",
      "\n",
      " [[0.07147681 0.15242695 0.4249168 ]\n",
      "  [0.61908645 0.45080413 0.95974088]]\n",
      "\n",
      " [[0.87037245 0.21987559 0.79849349]\n",
      "  [0.63770145 0.64679104 0.30735377]]\n",
      "\n",
      " [[0.65946334 0.22206625 0.62257439]\n",
      "  [0.87751111 0.16943366 0.99239497]]]\n"
     ]
    }
   ],
   "source": [
    "b = np.random.random((5,2,3))\n",
    "print(b)"
   ]
  },
  {
   "cell_type": "markdown",
   "metadata": {},
   "source": [
    "This created an array with five groups of 2 x 3 matrices. Let's see what happens if we pass four dimensions."
   ]
  },
  {
   "cell_type": "code",
   "execution_count": 5,
   "metadata": {},
   "outputs": [
    {
     "name": "stdout",
     "output_type": "stream",
     "text": [
      "[[[[0.4404094  0.24799513 0.57108631 0.57106802 0.90517221]\n",
      "   [0.93922619 0.00134985 0.05852427 0.32997353 0.02774508]\n",
      "   [0.51707305 0.84230169 0.6645297  0.14128103 0.50910176]\n",
      "   [0.15286279 0.07802472 0.49204547 0.86028372 0.15281628]]\n",
      "\n",
      "  [[0.05256593 0.79266082 0.90613601 0.37304575 0.72058266]\n",
      "   [0.59092392 0.65095088 0.99987316 0.95158677 0.85771954]\n",
      "   [0.35036525 0.13976    0.00745481 0.78124914 0.15158889]\n",
      "   [0.26833017 0.87266904 0.69005152 0.62779308 0.38657879]]\n",
      "\n",
      "  [[0.74061867 0.2276297  0.84917487 0.90163202 0.62636193]\n",
      "   [0.55882057 0.95339131 0.39840721 0.08550825 0.72613787]\n",
      "   [0.43511554 0.79373233 0.33428111 0.03175223 0.55016634]\n",
      "   [0.22672873 0.72047151 0.1591532  0.10488671 0.34050724]]]\n",
      "\n",
      "\n",
      " [[[0.34457167 0.25396822 0.71628843 0.18539264 0.43991837]\n",
      "   [0.5605501  0.71649319 0.79115272 0.34229665 0.82761719]\n",
      "   [0.37113875 0.39711516 0.08046738 0.072201   0.01519843]\n",
      "   [0.97118539 0.90527448 0.28050982 0.91407958 0.32868464]]\n",
      "\n",
      "  [[0.05269926 0.69645082 0.97510958 0.04310256 0.43631462]\n",
      "   [0.41217747 0.69503526 0.74297961 0.99527023 0.53941813]\n",
      "   [0.53231757 0.47324334 0.80927673 0.47313628 0.51651011]\n",
      "   [0.96438131 0.7190303  0.42664766 0.09094637 0.07719203]]\n",
      "\n",
      "  [[0.42113071 0.99265013 0.40780183 0.30274652 0.23218297]\n",
      "   [0.1910207  0.40041494 0.88079583 0.42669932 0.97180521]\n",
      "   [0.26203772 0.17313622 0.23538304 0.92286121 0.75537066]\n",
      "   [0.53843797 0.25830456 0.69799666 0.27114526 0.54878415]]]]\n"
     ]
    }
   ],
   "source": [
    "c = np.random.random((2,3,4,5))\n",
    "print(c)"
   ]
  },
  {
   "cell_type": "markdown",
   "metadata": {},
   "source": [
    "This time, we got two groups of three 4 x 5 matrices.\n",
    "\n",
    "\n",
    "# Extracting Data from Arrays\n",
    "\n",
    "Extracting elements from arrays works just like it does for other Python data structures. We just need to reference the indexes of the values we want to extract. Below are some examples of how to reference specific rows, columns, and values in a two dimensional array."
   ]
  },
  {
   "cell_type": "code",
   "execution_count": 6,
   "metadata": {},
   "outputs": [
    {
     "name": "stdout",
     "output_type": "stream",
     "text": [
      "[0.01194858 0.65317914 0.03901538 0.40651166]\n"
     ]
    }
   ],
   "source": [
    "# First row of matrix a\n",
    "print(a[0])"
   ]
  },
  {
   "cell_type": "code",
   "execution_count": 8,
   "metadata": {},
   "outputs": [
    {
     "name": "stdout",
     "output_type": "stream",
     "text": [
      "[0.01194858 0.93354835 0.51421797 0.66353129 0.17507682 0.73917581\n",
      " 0.09531446 0.04761771 0.76052686 0.49842254]\n"
     ]
    }
   ],
   "source": [
    "# First column of matrix a\n",
    "print(a[:,0])"
   ]
  },
  {
   "cell_type": "code",
   "execution_count": 9,
   "metadata": {},
   "outputs": [
    {
     "name": "stdout",
     "output_type": "stream",
     "text": [
      "0.0020276185483260045\n"
     ]
    }
   ],
   "source": [
    "# Value in the fifth row and third column of matrix a\n",
    "print(a[4,2])"
   ]
  },
  {
   "cell_type": "markdown",
   "metadata": {},
   "source": [
    "What about arrays that have more than two dimensions? You just pass a list of indexes for the values you want, and it will return the corresponding dimensions or values."
   ]
  },
  {
   "cell_type": "code",
   "execution_count": 10,
   "metadata": {},
   "outputs": [
    {
     "name": "stdout",
     "output_type": "stream",
     "text": [
      "[[[0.4404094  0.24799513 0.57108631 0.57106802 0.90517221]\n",
      "  [0.93922619 0.00134985 0.05852427 0.32997353 0.02774508]\n",
      "  [0.51707305 0.84230169 0.6645297  0.14128103 0.50910176]\n",
      "  [0.15286279 0.07802472 0.49204547 0.86028372 0.15281628]]\n",
      "\n",
      " [[0.05256593 0.79266082 0.90613601 0.37304575 0.72058266]\n",
      "  [0.59092392 0.65095088 0.99987316 0.95158677 0.85771954]\n",
      "  [0.35036525 0.13976    0.00745481 0.78124914 0.15158889]\n",
      "  [0.26833017 0.87266904 0.69005152 0.62779308 0.38657879]]\n",
      "\n",
      " [[0.74061867 0.2276297  0.84917487 0.90163202 0.62636193]\n",
      "  [0.55882057 0.95339131 0.39840721 0.08550825 0.72613787]\n",
      "  [0.43511554 0.79373233 0.33428111 0.03175223 0.55016634]\n",
      "  [0.22672873 0.72047151 0.1591532  0.10488671 0.34050724]]]\n"
     ]
    }
   ],
   "source": [
    "# First group of array c\n",
    "print(c[0])"
   ]
  },
  {
   "cell_type": "code",
   "execution_count": 11,
   "metadata": {},
   "outputs": [
    {
     "name": "stdout",
     "output_type": "stream",
     "text": [
      "[[0.05256593 0.79266082 0.90613601 0.37304575 0.72058266]\n",
      " [0.59092392 0.65095088 0.99987316 0.95158677 0.85771954]\n",
      " [0.35036525 0.13976    0.00745481 0.78124914 0.15158889]\n",
      " [0.26833017 0.87266904 0.69005152 0.62779308 0.38657879]]\n"
     ]
    }
   ],
   "source": [
    "# Second subgroup of the first group\n",
    "print(c[0,1])"
   ]
  },
  {
   "cell_type": "code",
   "execution_count": 12,
   "metadata": {},
   "outputs": [
    {
     "name": "stdout",
     "output_type": "stream",
     "text": [
      "[0.35036525 0.13976    0.00745481 0.78124914 0.15158889]\n"
     ]
    }
   ],
   "source": [
    "# Third row of the second subgroup\n",
    "print(c[0,1,2])"
   ]
  },
  {
   "cell_type": "code",
   "execution_count": 13,
   "metadata": {},
   "outputs": [
    {
     "name": "stdout",
     "output_type": "stream",
     "text": [
      "[0.37304575 0.95158677 0.78124914 0.62779308]\n"
     ]
    }
   ],
   "source": [
    "# Fourth column of the second subgroup\n",
    "print(c[0,1,:,3])"
   ]
  },
  {
   "cell_type": "code",
   "execution_count": 14,
   "metadata": {},
   "outputs": [
    {
     "name": "stdout",
     "output_type": "stream",
     "text": [
      "0.7812491390986553\n"
     ]
    }
   ],
   "source": [
    "# Value in the third row and fourth column of the second subgroup\n",
    "print(c[0,1,2,3])"
   ]
  },
  {
   "cell_type": "markdown",
   "metadata": {},
   "source": [
    "# Converting Other Data Structures to Arrays\n",
    "\n",
    "If you have data in another type of data structure and you would like to convert it to an array so that you can take advantage of Numpy's mathematical functions, you can convert them using the array() method as follows. "
   ]
  },
  {
   "cell_type": "code",
   "execution_count": 15,
   "metadata": {},
   "outputs": [
    {
     "name": "stdout",
     "output_type": "stream",
     "text": [
      "[[1 2 3]\n",
      " [4 5 6]\n",
      " [7 8 9]]\n"
     ]
    }
   ],
   "source": [
    "lst_lst = [[1,2,3],[4,5,6],[7,8,9]]\n",
    "d = np.array(lst_lst)\n",
    "print(d)"
   ]
  },
  {
   "cell_type": "markdown",
   "metadata": {},
   "source": [
    "This works the same way whether you have a list of lists, a list of tuples, a tuple of lists, or a tuple of tuples.\n",
    "\n",
    "\n",
    "\n",
    "\n",
    "# Numpy Math Functions\n",
    "\n",
    "Now that we know how to create and navigate arrays, let's take a look at how to perform mathematical calculations on them.\n",
    "\n",
    "One of the most common (and useful) functions is np.sum, which lets you obtain the sum of any elements you select from an array. "
   ]
  },
  {
   "cell_type": "code",
   "execution_count": 16,
   "metadata": {},
   "outputs": [
    {
     "name": "stdout",
     "output_type": "stream",
     "text": [
      "18.748393030537958\n"
     ]
    }
   ],
   "source": [
    "# Sum of all elements in matrix a\n",
    "print(np.sum(a))"
   ]
  },
  {
   "cell_type": "code",
   "execution_count": 17,
   "metadata": {},
   "outputs": [
    {
     "name": "stdout",
     "output_type": "stream",
     "text": [
      "[4.43938039 5.19786584 4.33955633 4.77159048]\n"
     ]
    }
   ],
   "source": [
    "# Sum of each column in matrix a\n",
    "print(np.sum(a, axis=0))"
   ]
  },
  {
   "cell_type": "code",
   "execution_count": 18,
   "metadata": {},
   "outputs": [
    {
     "name": "stdout",
     "output_type": "stream",
     "text": [
      "[1.11065477 3.53116123 1.9903271  2.48765722 0.71969673 1.28554769\n",
      " 1.88369751 2.33271264 1.05723831 2.34969984]\n"
     ]
    }
   ],
   "source": [
    "# Sum of each row in matrix a\n",
    "print(np.sum(a, axis=1))"
   ]
  },
  {
   "cell_type": "code",
   "execution_count": 19,
   "metadata": {},
   "outputs": [
    {
     "data": {
      "text/plain": [
       "4.936273480963713"
      ]
     },
     "execution_count": 19,
     "metadata": {},
     "output_type": "execute_result"
    }
   ],
   "source": [
    "# Sum of all the elements in the first two groups of array b\n",
    "np.sum(b[:2])"
   ]
  },
  {
   "cell_type": "markdown",
   "metadata": {},
   "source": [
    "The np.mean function works the same way and is also very useful. "
   ]
  },
  {
   "cell_type": "code",
   "execution_count": 20,
   "metadata": {},
   "outputs": [
    {
     "name": "stdout",
     "output_type": "stream",
     "text": [
      "0.46870982576344894\n"
     ]
    }
   ],
   "source": [
    "# Mean of all elements in matrix a\n",
    "print(np.mean(a))"
   ]
  },
  {
   "cell_type": "code",
   "execution_count": 21,
   "metadata": {},
   "outputs": [
    {
     "name": "stdout",
     "output_type": "stream",
     "text": [
      "[0.44393804 0.51978658 0.43395563 0.47715905]\n"
     ]
    }
   ],
   "source": [
    "# Mean of each column in matrix a\n",
    "print(np.mean(a, axis=0))"
   ]
  },
  {
   "cell_type": "code",
   "execution_count": 22,
   "metadata": {},
   "outputs": [
    {
     "name": "stdout",
     "output_type": "stream",
     "text": [
      "[0.27766369 0.88279031 0.49758177 0.6219143  0.17992418 0.32138692\n",
      " 0.47092438 0.58317816 0.26430958 0.58742496]\n"
     ]
    }
   ],
   "source": [
    "# Mean of each row in matrix a\n",
    "print(np.mean(a, axis=1))"
   ]
  },
  {
   "cell_type": "code",
   "execution_count": 23,
   "metadata": {},
   "outputs": [
    {
     "data": {
      "text/plain": [
       "0.41135612341364275"
      ]
     },
     "execution_count": 23,
     "metadata": {},
     "output_type": "execute_result"
    }
   ],
   "source": [
    "# Mean of all the elements in the first two groups of array b\n",
    "np.mean(b[:2])"
   ]
  },
  {
   "cell_type": "markdown",
   "metadata": {},
   "source": [
    "In addition to letting you perform calculations on individual arrays, Numpy also lets you perform calculations between arrays. For example, let's select two of the subarrays from array c to illustrate how this works."
   ]
  },
  {
   "cell_type": "code",
   "execution_count": 28,
   "metadata": {
    "scrolled": true
   },
   "outputs": [
    {
     "name": "stdout",
     "output_type": "stream",
     "text": [
      "[[0.4404094  0.24799513 0.57108631 0.57106802 0.90517221]\n",
      " [0.93922619 0.00134985 0.05852427 0.32997353 0.02774508]\n",
      " [0.51707305 0.84230169 0.6645297  0.14128103 0.50910176]\n",
      " [0.15286279 0.07802472 0.49204547 0.86028372 0.15281628]]\n"
     ]
    }
   ],
   "source": [
    "x = c[0,0]\n",
    "print(x)"
   ]
  },
  {
   "cell_type": "code",
   "execution_count": 29,
   "metadata": {},
   "outputs": [
    {
     "name": "stdout",
     "output_type": "stream",
     "text": [
      "[[0.05256593 0.79266082 0.90613601 0.37304575 0.72058266]\n",
      " [0.59092392 0.65095088 0.99987316 0.95158677 0.85771954]\n",
      " [0.35036525 0.13976    0.00745481 0.78124914 0.15158889]\n",
      " [0.26833017 0.87266904 0.69005152 0.62779308 0.38657879]]\n"
     ]
    }
   ],
   "source": [
    "y = c[0,1]\n",
    "print(y)"
   ]
  },
  {
   "cell_type": "markdown",
   "metadata": {},
   "source": [
    "We can now add, subtract, multiply, and divide the two arrays."
   ]
  },
  {
   "cell_type": "code",
   "execution_count": 26,
   "metadata": {},
   "outputs": [
    {
     "name": "stdout",
     "output_type": "stream",
     "text": [
      "[[0.49297533 1.04065595 1.47722232 0.94411377 1.62575487]\n",
      " [1.53015011 0.65230073 1.05839743 1.2815603  0.88546462]\n",
      " [0.8674383  0.98206169 0.6719845  0.92253016 0.66069065]\n",
      " [0.42119295 0.95069376 1.18209699 1.4880768  0.53939508]]\n"
     ]
    }
   ],
   "source": [
    "# Add elements of x and y together\n",
    "print(np.add(x, y))"
   ]
  },
  {
   "cell_type": "code",
   "execution_count": 30,
   "metadata": {
    "scrolled": true
   },
   "outputs": [
    {
     "name": "stdout",
     "output_type": "stream",
     "text": [
      "[[-0.38784347  0.54466569  0.33504969 -0.19802228 -0.18458954]\n",
      " [-0.34830227  0.64960102  0.94134888  0.62161324  0.82997446]\n",
      " [-0.16670781 -0.7025417  -0.65707489  0.63996811 -0.35751288]\n",
      " [ 0.11546738  0.79464432  0.19800605 -0.23249064  0.23376251]]\n"
     ]
    }
   ],
   "source": [
    "# Subtract elements of x from elements of y\n",
    "print(np.subtract(y, x))"
   ]
  },
  {
   "cell_type": "code",
   "execution_count": 31,
   "metadata": {},
   "outputs": [
    {
     "name": "stdout",
     "output_type": "stream",
     "text": [
      "[[0.02315053 0.19657602 0.51748187 0.2130345  0.6522514 ]\n",
      " [0.55501122 0.00087869 0.05851685 0.31399844 0.0237975 ]\n",
      " [0.18116443 0.11772008 0.00495394 0.11037568 0.07717417]\n",
      " [0.0410177  0.06808976 0.33953672 0.54008016 0.05907554]]\n"
     ]
    }
   ],
   "source": [
    "# Multiply elements of x and y together\n",
    "print(np.multiply(x, y))"
   ]
  },
  {
   "cell_type": "code",
   "execution_count": 32,
   "metadata": {},
   "outputs": [
    {
     "name": "stdout",
     "output_type": "stream",
     "text": [
      "[[1.19356968e-01 3.19627574e+00 1.58668836e+00 6.53242222e-01\n",
      "  7.96072457e-01]\n",
      " [6.29160396e-01 4.82237908e+02 1.70847600e+01 2.88382762e+00\n",
      "  3.09142934e+01]\n",
      " [6.77593317e-01 1.65926293e-01 1.12181697e-02 5.52975276e+00\n",
      "  2.97757539e-01]\n",
      " [1.75536616e+00 1.11845201e+01 1.40241414e+00 7.29751203e-01\n",
      "  2.52969633e+00]]\n"
     ]
    }
   ],
   "source": [
    "# Divide elements of y by elements of x\n",
    "print(np.divide(y, x))"
   ]
  },
  {
   "cell_type": "markdown",
   "metadata": {},
   "source": [
    "This is only the tip of the iceberg. Numpy has many more functions, which you can and should explore. You can read more about them in the [Numpy documentation](https://docs.scipy.org/doc/numpy-1.13.0/reference/routines.math.html). "
   ]
  },
  {
   "cell_type": "code",
   "execution_count": null,
   "metadata": {},
   "outputs": [],
   "source": []
  }
 ],
 "metadata": {
  "kernelspec": {
   "display_name": "Python 3",
   "language": "python",
   "name": "python3"
  },
  "language_info": {
   "codemirror_mode": {
    "name": "ipython",
    "version": 3
   },
   "file_extension": ".py",
   "mimetype": "text/x-python",
   "name": "python",
   "nbconvert_exporter": "python",
   "pygments_lexer": "ipython3",
   "version": "3.8.5"
  }
 },
 "nbformat": 4,
 "nbformat_minor": 2
}
